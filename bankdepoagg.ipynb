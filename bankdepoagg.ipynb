{
 "cells": [
  {
   "cell_type": "markdown",
   "id": "f62e7786",
   "metadata": {},
   "source": [
    "***GENERATED CODE FOR bankdepoagg PIPELINE.***"
   ]
  },
  {
   "cell_type": "markdown",
   "id": "ccc53416",
   "metadata": {},
   "source": [
    "***DON'T EDIT THIS CODE.***"
   ]
  },
  {
   "cell_type": "markdown",
   "id": "47614c89",
   "metadata": {},
   "source": [
    "***CONNECTOR FUNCTIONS TO READ DATA.***"
   ]
  },
  {
   "cell_type": "code",
   "execution_count": null,
   "id": "4fb5788f",
   "metadata": {},
   "outputs": [],
   "source": [
    "import os\n",
    "import datetime\n",
    "import logging\n",
    "import warnings\n",
    "warnings.filterwarnings('ignore')\n",
    "logging.basicConfig(format='%(levelname)s:%(message)s', level=logging.INFO)\n",
    "\n",
    "\n",
    "class HDFSConnector:\n",
    "\n",
    "    def fetch(spark, config):\n",
    "        ################### INPUT HADOOP HOST PORT TO CONNECT WITH ###############################\n",
    "        hdfs_server = str(os.environ['HDFS_SERVER'])\n",
    "        hdfs_port = int(os.environ['HDFS_PORT'])\n",
    "        df = spark.read.options(header='true', inferschema='true').csv(\n",
    "            f\"hdfs://{hdfs_server}:{hdfs_port}{eval(config)['url']}\", header='true')\n",
    "        display(df.limit(2).toPandas())\n",
    "        return df\n",
    "\n",
    "    def put(df, spark, config):\n",
    "        return df.write.format('csv').options(header='true' if eval(config)[\"is_header\"] == \"Use Header Line\" else 'false',\n",
    "                                              delimiter=eval(config)[\"delimiter\"]).save((\"%s %s\") % (datetime.datetime.now().strftime(\"%Y-%m-%d %H.%M.%S\")+\"_\", eval(config)['url']))\n"
   ]
  },
  {
   "cell_type": "markdown",
   "id": "375d11a0",
   "metadata": {},
   "source": [
    "***OPERATION FUNCTIONS***"
   ]
  },
  {
   "cell_type": "code",
   "execution_count": null,
   "id": "5d48bf22",
   "metadata": {},
   "outputs": [],
   "source": [
    "import pyspark\n",
    "from dask.dataframe import from_pandas\n",
    "import json\n",
    "\n",
    "\n",
    "def aggregation(df, functionsData, applyOn):\n",
    "    dfcp = df\n",
    "    for functionData in functionsData:\n",
    "        aggregateOn = []\n",
    "        groupOn = []\n",
    "\n",
    "        for column in functionData['aggregateOn']:\n",
    "            aggregateOn.append(column['columnName'])\n",
    "        for column in functionData['groupOn']:\n",
    "            groupOn.append(column['columnName'])\n",
    "        if functionData['aggregateFunction'] == 'count':\n",
    "            dfcp = (df.groupby(groupOn))[aggregateOn].count()\n",
    "        elif functionData['aggregateFunction'] == 'min':\n",
    "            dfcp = (df.groupby(groupOn))[aggregateOn].min()\n",
    "        elif functionData['aggregateFunction'] == 'max':\n",
    "            dfcp = (df.groupby(groupOn))[aggregateOn].max()\n",
    "        elif functionData['aggregateFunction'] == 'std':\n",
    "            dfcp = (df.groupby(groupOn))[aggregateOn].std()\n",
    "        elif functionData['aggregateFunction'] == 'mean':\n",
    "            dfcp = (df.groupby(groupOn))[aggregateOn].mean()\n",
    "        elif functionData['aggregateFunction'] == 'sum':\n",
    "            dfcp = (df.groupby(groupOn))[aggregateOn].sum()\n",
    "    return dfcp\n",
    "\n",
    "\n",
    "def runDataCleansing(sparkDf, spark, config):\n",
    "    configObj = json.loads(config)\n",
    "    sparkDf.persist(pyspark.StorageLevel.MEMORY_AND_DISK)\n",
    "    df = from_pandas((sparkDf.toPandas()), npartitions=5)\n",
    "    functionList = configObj['functionsApplied']\n",
    "    Data_Cleansing_Methods = {\"replaceBy\": replaceValues,\n",
    "                              \"formula\": calculateFormula,\n",
    "                              \"aggregate\": aggregation,\n",
    "                              \"converttostringtype\": changeToString,\n",
    "                              \"editname\": renameColumns}\n",
    "    for function in functionList:\n",
    "        function['functionName']\n",
    "        df = Data_Cleansing_Methods[function['functionName']](df, function['functionsData'],\n",
    "                                                              function['applyOn'])\n",
    "    sparkDf = spark.createDataFrame(df.compute())\n",
    "\n",
    "    display(sparkDf.limit(2).toPandas())\n",
    "    return sparkDf\n"
   ]
  },
  {
   "cell_type": "markdown",
   "id": "23740c31",
   "metadata": {},
   "source": [
    "***CONNECTOR FUNCTIONS TO WRITE DATA.***"
   ]
  },
  {
   "cell_type": "code",
   "execution_count": null,
   "id": "b3b61695",
   "metadata": {},
   "outputs": [],
   "source": [
    "import datetime\n",
    "import requests\n",
    "import datetime\n",
    "import logging\n",
    "import warnings\n",
    "warnings.filterwarnings('ignore')\n",
    "logging.basicConfig(format='%(levelname)s:%(message)s', level=logging.INFO)\n",
    "\n",
    "\n",
    "class NumtraConnector:\n",
    "\n",
    "    def put(inStages, inStagesData, stageId, spark, config):\n",
    "        path = eval(config)['server_url']\n",
    "        baseType = eval(config)['baseType']\n",
    "        results_url = eval(config)['results_url']\n",
    "        server = eval(config)['server']\n",
    "        originalfile = eval(config)['orignalKey']\n",
    "        eval(config)['pathOnly']\n",
    "        filename = eval(config)['filename']\n",
    "        eval(config)['ser']\n",
    "        eval(config)['user']\n",
    "        eval(config)['password']\n",
    "        eval(config)['authSource']\n",
    "        eval(config)['user_id']\n",
    "        eval(config)['parent_id']\n",
    "        eval(config)['project_id']\n",
    "        time = str(int(datetime.datetime.now().timestamp()))\n",
    "\n",
    "        inStagesData[inStages[0]]\n",
    "\n",
    "        print(path)\n",
    "        print(baseType)\n",
    "        print(results_url)\n",
    "        print(server)\n",
    "        print(originalfile)\n",
    "        print(filename)\n",
    "\n",
    "        args = {\n",
    "            'url': path,\n",
    "            'baseType': baseType,\n",
    "            'originalfile': originalfile,\n",
    "            'filename': time + filename\n",
    "        }\n",
    "\n",
    "        response = requests.post(results_url, args)\n",
    "        return response\n"
   ]
  },
  {
   "cell_type": "markdown",
   "id": "e5468b9c",
   "metadata": {},
   "source": [
    "***READING DATAFRAME***"
   ]
  },
  {
   "cell_type": "code",
   "execution_count": null,
   "id": "879b8960",
   "metadata": {},
   "outputs": [],
   "source": [
    "############## CREATE SPARK SESSION ############################ ENTER YOUR SPARK MASTER IP AND PORT TO CONNECT TO SERVER ################\n",
    "from pyspark.sql import SparkSession\n",
    "spark = SparkSession.builder.master('local[1]').getOrCreate()\n",
    "#%run bankdepoaggHooks.ipynb\n",
    "try:\n",
    "\t#sourcePreExecutionHook()\n",
    "\n",
    "\tbankdepositanalysistest = HDFSConnector.fetch(spark, \"{'url': '/FileStore/platform/uploadedSourceFiles/Bank_Deposit_Analysis_Test.csv', 'filename': 'Bank_Deposit_Analysis_Test.csv', 'delimiter': ',', 'file_type': 'Delimeted', 'dbfs_token': '', 'dbfs_domain': '', 'is_header': 'Use Header Line', 'server_url': '/numtraPlatform/NumtraPlatformV3/uploads/platform/', 'results_url': 'http://ml.numtra.com:44040/api/read/hdfs'}\")\n",
    "\n",
    "except Exception as ex: \n",
    "\tlogging.error(ex)\n",
    "#spark.stop()\n"
   ]
  },
  {
   "cell_type": "markdown",
   "id": "cb9875aa",
   "metadata": {},
   "source": [
    "***PERFORMING OPERATIONS***"
   ]
  },
  {
   "cell_type": "code",
   "execution_count": null,
   "id": "03527bb8",
   "metadata": {},
   "outputs": [],
   "source": [
    "#%run bankdepoaggHooks.ipynb\n",
    "try:\n",
    "\t#operationPreExecutionHook()\n",
    "\n",
    "datapreparation = runDataCleansing(bankdepositanalysistest,spark,json.dumps( {\"url\": \"/FileStore/platform/uploadedSourceFiles/Bank_Deposit_Analysis_Test.csv\", \"source_attributes\": {}, \"DataPrepFile\": \"/FileStore/platform/uploadedSourceFiles/Bank_Deposit_Analysis_Test.csv\", \"data_source\": \"localfiles\", \"startListenerOnly\": 1, \"dateColumnNames\": [], \"FilePath\": \"/FileStore/platform/extra/65969981805e25dc96ec627d1704545325/0part.csv\", \"requestRatio\": 0.0, \"totalRows\": 24, \"BasicStats\": {\"missingValues\": 0.0, \"numberOfColumns\": 16, \"numberOfRows\": 9, \"duplicateRowCount\": 0, \"stats\": [{\"column\": \"job\", \"alias\": \"job\", \"generated\": 0, \"type\": \"String\", \"max\": \"unemployed\", \"min\": \"admin.\", \"mean\": \"\", \"missing\": 0.0, \"stddev\": \"\", \"outliers\": [], \"validation\": []}, {\"column\": \"marital\", \"alias\": \"marital\", \"generated\": 0, \"type\": \"numeric\", \"max\": 4, \"min\": 1, \"mean\": 2.6666666666666665, \"missing\": 0.0, \"stddev\": 1.0, \"outliers\": [], \"validation\": []}, {\"column\": \"education\", \"alias\": \"education\", \"generated\": 0, \"type\": \"String\", \"max\": \"unknown\", \"min\": \"secondary\", \"mean\": \"\", \"missing\": 0.0, \"stddev\": \"\", \"outliers\": [], \"validation\": []}, {\"column\": \"age\", \"alias\": \"age\", \"generated\": 0, \"type\": \"numeric\", \"max\": 4, \"min\": 1, \"mean\": 2.6666666666666665, \"missing\": 0.0, \"stddev\": 1.0, \"outliers\": [], \"validation\": []}, {\"column\": \"default\", \"alias\": \"default\", \"generated\": 0, \"type\": \"numeric\", \"max\": 4, \"min\": 1, \"mean\": 2.6666666666666665, \"missing\": 0.0, \"stddev\": 1.0, \"outliers\": [], \"validation\": []}, {\"column\": \"balance\", \"alias\": \"balance\", \"generated\": 0, \"type\": \"numeric\", \"max\": 4, \"min\": 1, \"mean\": 2.6666666666666665, \"missing\": 0.0, \"stddev\": 1.0, \"outliers\": [], \"validation\": []}, {\"column\": \"housing\", \"alias\": \"housing\", \"generated\": 0, \"type\": \"numeric\", \"max\": 4, \"min\": 1, \"mean\": 2.6666666666666665, \"missing\": 0.0, \"stddev\": 1.0, \"outliers\": [], \"validation\": []}, {\"column\": \"loan\", \"alias\": \"loan\", \"generated\": 0, \"type\": \"numeric\", \"max\": 4, \"min\": 1, \"mean\": 2.6666666666666665, \"missing\": 0.0, \"stddev\": 1.0, \"outliers\": [], \"validation\": []}, {\"column\": \"contact\", \"alias\": \"contact\", \"generated\": 0, \"type\": \"numeric\", \"max\": 4, \"min\": 1, \"mean\": 2.6666666666666665, \"missing\": 0.0, \"stddev\": 1.0, \"outliers\": [], \"validation\": []}, {\"column\": \"day\", \"alias\": \"day\", \"generated\": 0, \"type\": \"numeric\", \"max\": 4, \"min\": 1, \"mean\": 2.6666666666666665, \"missing\": 0.0, \"stddev\": 1.0, \"outliers\": [], \"validation\": []}, {\"column\": \"month\", \"alias\": \"month\", \"generated\": 0, \"type\": \"numeric\", \"max\": 4, \"min\": 1, \"mean\": 2.6666666666666665, \"missing\": 0.0, \"stddev\": 1.0, \"outliers\": [], \"validation\": []}, {\"column\": \"duration\", \"alias\": \"duration\", \"generated\": 0, \"type\": \"numeric\", \"max\": 4, \"min\": 1, \"mean\": 2.6666666666666665, \"missing\": 0.0, \"stddev\": 1.0, \"outliers\": [], \"validation\": []}, {\"column\": \"campaign\", \"alias\": \"campaign\", \"generated\": 0, \"type\": \"numeric\", \"max\": 4, \"min\": 1, \"mean\": 2.6666666666666665, \"missing\": 0.0, \"stddev\": 1.0, \"outliers\": [], \"validation\": []}, {\"column\": \"pdays\", \"alias\": \"pdays\", \"generated\": 0, \"type\": \"numeric\", \"max\": 4, \"min\": 1, \"mean\": 2.6666666666666665, \"missing\": 0.0, \"stddev\": 1.0, \"outliers\": [], \"validation\": []}, {\"column\": \"previous\", \"alias\": \"previous\", \"generated\": 0, \"type\": \"numeric\", \"max\": 4, \"min\": 1, \"mean\": 2.6666666666666665, \"missing\": 0.0, \"stddev\": 1.0, \"outliers\": [], \"validation\": []}, {\"column\": \"poutcome\", \"alias\": \"poutcome\", \"generated\": 0, \"type\": \"numeric\", \"max\": 4, \"min\": 1, \"mean\": 2.6666666666666665, \"missing\": 0.0, \"stddev\": 1.0, \"outliers\": [], \"validation\": []}]}, \"predictionPowerScore\": [{\"age\": 1.0, \"balance\": 0.8392857143, \"campaign\": 0.8392857143, \"contact\": 0.8392857143, \"day\": 0.8392857143, \"default\": 0.8392857143, \"duration\": 0.8392857143, \"education\": 0.0, \"housing\": 0.8392857143, \"job\": 0.0, \"loan\": 0.8392857143, \"marital\": 0.8392857143, \"month\": 0.8392857143, \"pdays\": 0.8392857143, \"poutcome\": 0.8392857143, \"previous\": 0.8392857143}, {\"age\": 0.8392857143, \"balance\": 1.0, \"campaign\": 0.8392857143, \"contact\": 0.8392857143, \"day\": 0.8392857143, \"default\": 0.8392857143, \"duration\": 0.8392857143, \"education\": 0.0, \"housing\": 0.8392857143, \"job\": 0.0, \"loan\": 0.8392857143, \"marital\": 0.8392857143, \"month\": 0.8392857143, \"pdays\": 0.8392857143, \"poutcome\": 0.8392857143, \"previous\": 0.8392857143}, {\"age\": 0.8392857143, \"balance\": 0.8392857143, \"campaign\": 1.0, \"contact\": 0.8392857143, \"day\": 0.8392857143, \"default\": 0.8392857143, \"duration\": 0.8392857143, \"education\": 0.0, \"housing\": 0.8392857143, \"job\": 0.0, \"loan\": 0.8392857143, \"marital\": 0.8392857143, \"month\": 0.8392857143, \"pdays\": 0.8392857143, \"poutcome\": 0.8392857143, \"previous\": 0.8392857143}, {\"age\": 0.8392857143, \"balance\": 0.8392857143, \"campaign\": 0.8392857143, \"contact\": 1.0, \"day\": 0.8392857143, \"default\": 0.8392857143, \"duration\": 0.8392857143, \"education\": 0.0, \"housing\": 0.8392857143, \"job\": 0.0, \"loan\": 0.8392857143, \"marital\": 0.8392857143, \"month\": 0.8392857143, \"pdays\": 0.8392857143, \"poutcome\": 0.8392857143, \"previous\": 0.8392857143}, {\"age\": 0.8392857143, \"balance\": 0.8392857143, \"campaign\": 0.8392857143, \"contact\": 0.8392857143, \"day\": 1.0, \"default\": 0.8392857143, \"duration\": 0.8392857143, \"education\": 0.0, \"housing\": 0.8392857143, \"job\": 0.0, \"loan\": 0.8392857143, \"marital\": 0.8392857143, \"month\": 0.8392857143, \"pdays\": 0.8392857143, \"poutcome\": 0.8392857143, \"previous\": 0.8392857143}, {\"age\": 0.8392857143, \"balance\": 0.8392857143, \"campaign\": 0.8392857143, \"contact\": 0.8392857143, \"day\": 0.8392857143, \"default\": 1.0, \"duration\": 0.8392857143, \"education\": 0.0, \"housing\": 0.8392857143, \"job\": 0.0, \"loan\": 0.8392857143, \"marital\": 0.8392857143, \"month\": 0.8392857143, \"pdays\": 0.8392857143, \"poutcome\": 0.8392857143, \"previous\": 0.8392857143}, {\"age\": 0.8392857143, \"balance\": 0.8392857143, \"campaign\": 0.8392857143, \"contact\": 0.8392857143, \"day\": 0.8392857143, \"default\": 0.8392857143, \"duration\": 1.0, \"education\": 0.0, \"housing\": 0.8392857143, \"job\": 0.0, \"loan\": 0.8392857143, \"marital\": 0.8392857143, \"month\": 0.8392857143, \"pdays\": 0.8392857143, \"poutcome\": 0.8392857143, \"previous\": 0.8392857143}, {\"age\": 0.0, \"balance\": 0.0, \"campaign\": 0.0, \"contact\": 0.0, \"day\": 0.0, \"default\": 0.0, \"duration\": 0.0, \"education\": 1.0, \"housing\": 0.0, \"job\": 0.0, \"loan\": 0.0, \"marital\": 0.0, \"month\": 0.0, \"pdays\": 0.0, \"poutcome\": 0.0, \"previous\": 0.0}, {\"age\": 0.8392857143, \"balance\": 0.8392857143, \"campaign\": 0.8392857143, \"contact\": 0.8392857143, \"day\": 0.8392857143, \"default\": 0.8392857143, \"duration\": 0.8392857143, \"education\": 0.0, \"housing\": 1.0, \"job\": 0.0, \"loan\": 0.8392857143, \"marital\": 0.8392857143, \"month\": 0.8392857143, \"pdays\": 0.8392857143, \"poutcome\": 0.8392857143, \"previous\": 0.8392857143}, {\"age\": 0.0, \"balance\": 0.0, \"campaign\": 0.0, \"contact\": 0.0, \"day\": 0.0, \"default\": 0.0, \"duration\": 0.0, \"education\": 0.0, \"housing\": 0.0, \"job\": 1.0, \"loan\": 0.0, \"marital\": 0.0, \"month\": 0.0, \"pdays\": 0.0, \"poutcome\": 0.0, \"previous\": 0.0}, {\"age\": 0.8392857143, \"balance\": 0.8392857143, \"campaign\": 0.8392857143, \"contact\": 0.8392857143, \"day\": 0.8392857143, \"default\": 0.8392857143, \"duration\": 0.8392857143, \"education\": 0.0, \"housing\": 0.8392857143, \"job\": 0.0, \"loan\": 1.0, \"marital\": 0.8392857143, \"month\": 0.8392857143, \"pdays\": 0.8392857143, \"poutcome\": 0.8392857143, \"previous\": 0.8392857143}, {\"age\": 0.8392857143, \"balance\": 0.8392857143, \"campaign\": 0.8392857143, \"contact\": 0.8392857143, \"day\": 0.8392857143, \"default\": 0.8392857143, \"duration\": 0.8392857143, \"education\": 0.0, \"housing\": 0.8392857143, \"job\": 0.0, \"loan\": 0.8392857143, \"marital\": 1.0, \"month\": 0.8392857143, \"pdays\": 0.8392857143, \"poutcome\": 0.8392857143, \"previous\": 0.8392857143}, {\"age\": 0.8392857143, \"balance\": 0.8392857143, \"campaign\": 0.8392857143, \"contact\": 0.8392857143, \"day\": 0.8392857143, \"default\": 0.8392857143, \"duration\": 0.8392857143, \"education\": 0.0, \"housing\": 0.8392857143, \"job\": 0.0, \"loan\": 0.8392857143, \"marital\": 0.8392857143, \"month\": 1.0, \"pdays\": 0.8392857143, \"poutcome\": 0.8392857143, \"previous\": 0.8392857143}, {\"age\": 0.8392857143, \"balance\": 0.8392857143, \"campaign\": 0.8392857143, \"contact\": 0.8392857143, \"day\": 0.8392857143, \"default\": 0.8392857143, \"duration\": 0.8392857143, \"education\": 0.0, \"housing\": 0.8392857143, \"job\": 0.0, \"loan\": 0.8392857143, \"marital\": 0.8392857143, \"month\": 0.8392857143, \"pdays\": 1.0, \"poutcome\": 0.8392857143, \"previous\": 0.8392857143}, {\"age\": 0.8392857143, \"balance\": 0.8392857143, \"campaign\": 0.8392857143, \"contact\": 0.8392857143, \"day\": 0.8392857143, \"default\": 0.8392857143, \"duration\": 0.8392857143, \"education\": 0.0, \"housing\": 0.8392857143, \"job\": 0.0, \"loan\": 0.8392857143, \"marital\": 0.8392857143, \"month\": 0.8392857143, \"pdays\": 0.8392857143, \"poutcome\": 1.0, \"previous\": 0.8392857143}, {\"age\": 0.8392857143, \"balance\": 0.8392857143, \"campaign\": 0.8392857143, \"contact\": 0.8392857143, \"day\": 0.8392857143, \"default\": 0.8392857143, \"duration\": 0.8392857143, \"education\": 0.0, \"housing\": 0.8392857143, \"job\": 0.0, \"loan\": 0.8392857143, \"marital\": 0.8392857143, \"month\": 0.8392857143, \"pdays\": 0.8392857143, \"poutcome\": 0.8392857143, \"previous\": 1.0}], \"HasBasicStats\": 1, \"functionsApplied\": [{\"functionName\": \"aggregate\", \"applyOn\": [{\"columnName\": \"job\", \"type\": \"String\", \"min\": \"admin.\", \"max\": \"unemployed\", \"mean\": \"-\"}], \"functionsData\": [{\"aggregateFunction\": \"count\", \"aggregateOn\": [{\"columnName\": \"job\", \"type\": \"String\", \"min\": \"admin.\", \"max\": \"unemployed\", \"mean\": \"-\"}], \"groupOn\": [{\"columnName\": \"job\", \"type\": \"String\", \"min\": \"admin.\", \"max\": \"unemployed\", \"mean\": \"-\"}]}], \"additionalFunctions\": {\"marital\": \"count\", \"education\": \"max\", \"age\": \"count\", \"job\": \"count\", \"default\": \"count\", \"balance\": \"count\", \"housing\": \"count\", \"loan\": \"count\", \"contact\": \"count\", \"day\": \"count\", \"month\": \"count\", \"duration\": \"count\", \"campaign\": \"count\", \"pdays\": \"count\", \"previous\": \"count\", \"poutcome\": \"count\"}}], \"functionChanges\": [{\"columnName\": \"job\", \"functionName\": \"Aggregate\", \"Type\": \"String\", \"Parameters\": [{\"aggregateFunction\": \"count\", \"aggregateOn\": [{\"columnName\": \"job\", \"type\": \"String\", \"min\": \"admin.\", \"max\": \"unemployed\", \"mean\": \"-\"}], \"groupOn\": [{\"columnName\": \"job\", \"type\": \"String\", \"min\": \"admin.\", \"max\": \"unemployed\", \"mean\": \"-\"}]}]}], \"fileheader\": [{\"field\": \"job\", \"alias\": \"job\", \"generated\": 0, \"position\": 1, \"type\": \"String\"}, {\"field\": \"marital\", \"alias\": \"marital\", \"generated\": 0, \"position\": 2, \"type\": \"numeric\"}, {\"field\": \"education\", \"alias\": \"education\", \"generated\": 0, \"position\": 3, \"type\": \"String\"}, {\"field\": \"age\", \"alias\": \"age\", \"generated\": 0, \"position\": 4, \"type\": \"numeric\"}, {\"field\": \"default\", \"alias\": \"default\", \"generated\": 0, \"position\": 5, \"type\": \"numeric\"}, {\"field\": \"balance\", \"alias\": \"balance\", \"generated\": 0, \"position\": 6, \"type\": \"numeric\"}, {\"field\": \"housing\", \"alias\": \"housing\", \"generated\": 0, \"position\": 7, \"type\": \"numeric\"}, {\"field\": \"loan\", \"alias\": \"loan\", \"generated\": 0, \"position\": 8, \"type\": \"numeric\"}, {\"field\": \"contact\", \"alias\": \"contact\", \"generated\": 0, \"position\": 9, \"type\": \"numeric\"}, {\"field\": \"day\", \"alias\": \"day\", \"generated\": 0, \"position\": 10, \"type\": \"numeric\"}, {\"field\": \"month\", \"alias\": \"month\", \"generated\": 0, \"position\": 11, \"type\": \"numeric\"}, {\"field\": \"duration\", \"alias\": \"duration\", \"generated\": 0, \"position\": 12, \"type\": \"numeric\"}, {\"field\": \"campaign\", \"alias\": \"campaign\", \"generated\": 0, \"position\": 13, \"type\": \"numeric\"}, {\"field\": \"pdays\", \"alias\": \"pdays\", \"generated\": 0, \"position\": 14, \"type\": \"numeric\"}, {\"field\": \"previous\", \"alias\": \"previous\", \"generated\": 0, \"position\": 15, \"type\": \"numeric\"}, {\"field\": \"poutcome\", \"alias\": \"poutcome\", \"generated\": 0, \"position\": 16, \"type\": \"numeric\"}]}))\n",
    "\t#operationPostExecutionHook(datapreparation)\n",
    "\n",
    "except Exception as ex: \n",
    "\tlogging.error(ex)\n"
   ]
  },
  {
   "cell_type": "markdown",
   "id": "047b12f4",
   "metadata": {},
   "source": [
    "***WRITING DATAFRAME***"
   ]
  },
  {
   "cell_type": "code",
   "execution_count": null,
   "id": "48ded963",
   "metadata": {},
   "outputs": [],
   "source": [
    "#%run bankdepoaggHooks.ipynb\n",
    "try:\n",
    "\t#sinkPreExecutionHook()\n",
    "\n",
    "\tdatapipelines = NumtraConnector.fetch(spark, \"{'samplefile': '/FileStore/platform/sampleData/65994b932886a6eeecc498fd/part-00000-a359b058-f6ad-4b48-891c-e6670ea69806-c000.csv', 'samplecount': 24, 'originalcount': 24, 'orignalKey': None, 'pathOnly': '/DataPipelines', 'project_id': '653649fa02108c303fddceda', 'parent_id': '653649fa02108c303fddceda', 'original_schema': [{'checked': True, 'inherited': True, 'is_categorical': False, 'bad_values': '', 'nullable': 'true', 'field': 'job', 'alias': 'job', 'type': 'String', 'position': '0'}, {'checked': True, 'inherited': True, 'is_categorical': False, 'bad_values': '', 'nullable': 'true', 'field': 'marital', 'alias': 'marital', 'type': 'numeric', 'position': '1'}, {'checked': True, 'inherited': True, 'is_categorical': False, 'bad_values': '', 'nullable': 'true', 'field': 'education', 'alias': 'education', 'type': 'String', 'position': '2'}, {'checked': True, 'inherited': True, 'is_categorical': False, 'bad_values': '', 'nullable': 'true', 'field': 'age', 'alias': 'age', 'type': 'numeric', 'position': '3'}, {'checked': True, 'inherited': True, 'is_categorical': False, 'bad_values': '', 'nullable': 'true', 'field': 'default', 'alias': 'default', 'type': 'numeric', 'position': '4'}, {'checked': True, 'inherited': True, 'is_categorical': False, 'bad_values': '', 'nullable': 'true', 'field': 'balance', 'alias': 'balance', 'type': 'numeric', 'position': '5'}, {'checked': True, 'inherited': True, 'is_categorical': False, 'bad_values': '', 'nullable': 'true', 'field': 'housing', 'alias': 'housing', 'type': 'numeric', 'position': '6'}, {'checked': True, 'inherited': True, 'is_categorical': False, 'bad_values': '', 'nullable': 'true', 'field': 'loan', 'alias': 'loan', 'type': 'numeric', 'position': '7'}, {'checked': True, 'inherited': True, 'is_categorical': False, 'bad_values': '', 'nullable': 'true', 'field': 'contact', 'alias': 'contact', 'type': 'numeric', 'position': '8'}, {'checked': True, 'inherited': True, 'is_categorical': False, 'bad_values': '', 'nullable': 'true', 'field': 'day', 'alias': 'day', 'type': 'numeric', 'position': '9'}, {'checked': True, 'inherited': True, 'is_categorical': False, 'bad_values': '', 'nullable': 'true', 'field': 'month', 'alias': 'month', 'type': 'numeric', 'position': '10'}, {'checked': True, 'inherited': True, 'is_categorical': False, 'bad_values': '', 'nullable': 'true', 'field': 'duration', 'alias': 'duration', 'type': 'numeric', 'position': '11'}, {'checked': True, 'inherited': True, 'is_categorical': False, 'bad_values': '', 'nullable': 'true', 'field': 'campaign', 'alias': 'campaign', 'type': 'numeric', 'position': '12'}, {'checked': True, 'inherited': True, 'is_categorical': False, 'bad_values': '', 'nullable': 'true', 'field': 'pdays', 'alias': 'pdays', 'type': 'numeric', 'position': '13'}, {'checked': True, 'inherited': True, 'is_categorical': False, 'bad_values': '', 'nullable': 'true', 'field': 'previous', 'alias': 'previous', 'type': 'numeric', 'position': '14'}, {'checked': True, 'inherited': True, 'is_categorical': False, 'bad_values': '', 'nullable': 'true', 'field': 'poutcome', 'alias': 'poutcome', 'type': 'numeric', 'position': '15'}], 'actual_schema': [{'checked': True, 'inherited': True, 'is_categorical': False, 'bad_values': '', 'nullable': 'true', 'field': 'age', 'alias': 'age', 'type': 'numeric', 'position': '0'}, {'checked': True, 'inherited': True, 'is_categorical': False, 'bad_values': '', 'nullable': 'true', 'field': 'job', 'alias': 'job', 'type': 'String', 'position': '1'}, {'checked': True, 'inherited': True, 'is_categorical': False, 'bad_values': '', 'nullable': 'true', 'field': 'marital', 'alias': 'marital', 'type': 'String', 'position': '2'}, {'checked': True, 'inherited': True, 'is_categorical': False, 'bad_values': '', 'nullable': 'true', 'field': 'education', 'alias': 'education', 'type': 'String', 'position': '3'}, {'checked': True, 'inherited': True, 'is_categorical': False, 'bad_values': '', 'nullable': 'true', 'field': 'default', 'alias': 'default', 'type': 'String', 'position': '4'}, {'checked': True, 'inherited': True, 'is_categorical': False, 'bad_values': '', 'nullable': 'true', 'field': 'balance', 'alias': 'balance', 'type': 'numeric', 'position': '5'}, {'checked': True, 'inherited': True, 'is_categorical': False, 'bad_values': '', 'nullable': 'true', 'field': 'housing', 'alias': 'housing', 'type': 'String', 'position': '6'}, {'checked': True, 'inherited': True, 'is_categorical': False, 'bad_values': '', 'nullable': 'true', 'field': 'loan', 'alias': 'loan', 'type': 'String', 'position': '7'}, {'checked': True, 'inherited': True, 'is_categorical': False, 'bad_values': '', 'nullable': 'true', 'field': 'contact', 'alias': 'contact', 'type': 'String', 'position': '8'}, {'checked': True, 'inherited': True, 'is_categorical': False, 'bad_values': '', 'nullable': 'true', 'field': 'day', 'alias': 'day', 'type': 'numeric', 'position': '9'}, {'checked': True, 'inherited': True, 'is_categorical': False, 'bad_values': '', 'nullable': 'true', 'field': 'month', 'alias': 'month', 'type': 'String', 'position': '10'}, {'checked': True, 'inherited': True, 'is_categorical': False, 'bad_values': '', 'nullable': 'true', 'field': 'duration', 'alias': 'duration', 'type': 'numeric', 'position': '11'}, {'checked': True, 'inherited': True, 'is_categorical': False, 'bad_values': '', 'nullable': 'true', 'field': 'campaign', 'alias': 'campaign', 'type': 'numeric', 'position': '12'}, {'checked': True, 'inherited': True, 'is_categorical': False, 'bad_values': '', 'nullable': 'true', 'field': 'pdays', 'alias': 'pdays', 'type': 'numeric', 'position': '13'}, {'checked': True, 'inherited': True, 'is_categorical': False, 'bad_values': '', 'nullable': 'true', 'field': 'previous', 'alias': 'previous', 'type': 'numeric', 'position': '14'}, {'checked': True, 'inherited': True, 'is_categorical': False, 'bad_values': '', 'nullable': 'true', 'field': 'poutcome', 'alias': 'poutcome', 'type': 'String', 'position': '15'}], 'server': 'https://ml.numtra.com:443', 'server_url': '/numtraPlatform/NumtraPlatformV3/uploads/platform/', 'delimiter': ',', 'file_type': 'Delimeted', 'filename': 'BankDepoAgg1.csv', 'token': '', 'domain': '', 'is_header': 'Use Header Line', 'url': '/FileStore/platform/uploadedSourceFiles/part-00000-4848c5f1-9843-4ee8-b68e-6e7fedb9d837-c000.csv', 'results_url': 'http://ml.numtra.com:44040/api/read/hdfs'}\")\n",
    "\n",
    "except Exception as ex: \n",
    "\tlogging.error(ex)\n"
   ]
  }
 ],
 "metadata": {},
 "nbformat": 4,
 "nbformat_minor": 5
}
